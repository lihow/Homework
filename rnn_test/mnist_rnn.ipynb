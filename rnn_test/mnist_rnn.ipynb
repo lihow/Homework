{
 "cells": [
  {
   "cell_type": "markdown",
   "metadata": {},
   "source": [
    "### 设置RNN的参数"
   ]
  },
  {
   "cell_type": "code",
   "execution_count": 1,
   "metadata": {},
   "outputs": [
    {
     "name": "stderr",
     "output_type": "stream",
     "text": [
      "/home/lhw/anaconda3/lib/python3.6/importlib/_bootstrap.py:219: RuntimeWarning: compiletime version 3.5 of module 'tensorflow.python.framework.fast_tensor_util' does not match runtime version 3.6\n",
      "  return f(*args, **kwds)\n"
     ]
    },
    {
     "name": "stdout",
     "output_type": "stream",
     "text": [
      "Extracting MNIST_data/train-images-idx3-ubyte.gz\n",
      "Extracting MNIST_data/train-labels-idx1-ubyte.gz\n",
      "Extracting MNIST_data/t10k-images-idx3-ubyte.gz\n",
      "Extracting MNIST_data/t10k-labels-idx1-ubyte.gz\n"
     ]
    }
   ],
   "source": [
    "import os\n",
    "os.environ[\"CUDA_VISIBLE_DEVICES\"] = \"3\"\n",
    "import tensorflow as tf\n",
    "from tensorflow.examples.tutorials.mnist import input_data\n",
    "tf.set_random_seed(1) #set random seed\n",
    "\n",
    "#导入数据\n",
    "mnist = input_data.read_data_sets('MNIST_data', one_hot=True)\n",
    "\n",
    "#hyperparameters\n",
    "lr = 0.001      #leaning rate\n",
    "training_iters = 100000    #train step上限\n",
    "batch_size = 128    #每次读取的数据个数\n",
    "n_inputs = 28    #MNIST data input 读入一行\n",
    "n_steps = 28     #time steps    和n_inputs组合一起为 一张图片的大小(28*28)\n",
    "n_hidden_utils = 128    #每个cell 中的神经元个数\n",
    "n_classes = 10    #MNIST class"
   ]
  },
  {
   "cell_type": "code",
   "execution_count": 2,
   "metadata": {},
   "outputs": [],
   "source": [
    "# x y placeholder\n",
    "x = tf.placeholder(tf.float32, [None, n_steps, n_inputs])\n",
    "y = tf.placeholder(tf.float32, [None, n_classes])\n",
    "\n",
    "#对weights biases 初始值的定义\n",
    "weights = {\n",
    "    #shape (28,128)\n",
    "    'in': tf.Variable(tf.random_normal([n_inputs, n_hidden_utils])),\n",
    "    #shape (128, 10)\n",
    "    'out': tf.Variable(tf.random_normal([n_hidden_utils, n_classes]))\n",
    "}\n",
    "biases = {\n",
    "    #shape (128, )\n",
    "    'in': tf.Variable(tf.constant(0.1, shape=[n_hidden_utils, ])),\n",
    "    #shape (10, )\n",
    "    'out': tf.Variable(tf.constant(0.1, shape=[n_classes, ]))\n",
    "}"
   ]
  },
  {
   "cell_type": "markdown",
   "metadata": {},
   "source": [
    "### 定义RNN的主体结构"
   ]
  },
  {
   "cell_type": "code",
   "execution_count": 3,
   "metadata": {},
   "outputs": [],
   "source": [
    "def RNN(X, weights, biases):\n",
    "    # (128batchs, 28 steps, 29 inputs)X ==> (128 batches * 28 steps, 28 inputs) 分离出行\n",
    "    X = tf.reshape(X, [-1, n_inputs])\n",
    "    # X_in = W*X + b   #affine 同时扩充行维度\n",
    "    X_in = tf.matmul(X, weights['in']) + biases['in']\n",
    "    # X_in ==> (128 batches, 28 steps, 128 hidden)还原成原来的形式\n",
    "    X_in = tf.reshape(X_in, [-1, n_steps, n_hidden_utils])\n",
    "    \n",
    "    #使用basic LSTM Cell\n",
    "    lstm_cell = tf.contrib.rnn.BasicLSTMCell(n_hidden_utils, forget_bias=1.0)\n",
    "    init_state = lstm_cell.zero_state(batch_size, dtype=tf.float32)#初始化全为0\n",
    "    #with tf.variable_scope('train'): \n",
    "    outputs, final_state = tf.nn.dynamic_rnn(lstm_cell, X_in, initial_state=init_state, time_major=False)\n",
    "    results = tf.matmul(final_state[1], weights['out']) + biases['out']\n",
    "    \n",
    "    return results"
   ]
  },
  {
   "cell_type": "markdown",
   "metadata": {},
   "source": [
    "### 训练RNN"
   ]
  },
  {
   "cell_type": "code",
   "execution_count": 4,
   "metadata": {},
   "outputs": [
    {
     "name": "stdout",
     "output_type": "stream",
     "text": [
      "0.265625\n",
      "0.703125\n",
      "0.796875\n",
      "0.867188\n",
      "0.867188\n",
      "0.882812\n",
      "0.875\n",
      "0.882812\n",
      "0.898438\n",
      "0.914062\n",
      "0.867188\n",
      "0.929688\n",
      "0.914062\n",
      "0.9375\n",
      "0.90625\n",
      "0.929688\n",
      "0.945312\n",
      "0.953125\n",
      "0.929688\n",
      "0.96875\n",
      "0.945312\n",
      "0.984375\n",
      "0.90625\n",
      "0.976562\n",
      "0.96875\n",
      "0.953125\n",
      "0.96875\n",
      "0.945312\n",
      "0.960938\n",
      "0.945312\n",
      "0.96875\n",
      "0.96875\n",
      "0.953125\n",
      "0.992188\n",
      "0.976562\n",
      "0.960938\n",
      "0.953125\n",
      "0.945312\n",
      "0.953125\n",
      "0.960938\n"
     ]
    }
   ],
   "source": [
    "pred = RNN(x, weights, biases)\n",
    "cost = tf.reduce_mean(tf.nn.softmax_cross_entropy_with_logits(logits=pred, labels=y))\n",
    "train_op = tf.train.AdamOptimizer(lr).minimize(cost)\n",
    "\n",
    "correct_pred = tf.equal(tf.argmax(pred, 1), tf.argmax(y, 1))#tf.argmax(vector, 1)：返回的是vector中的最大值的索引号\n",
    "accuracy = tf.reduce_mean(tf.cast(correct_pred, tf.float32))\n",
    "\n",
    "init = tf.global_variables_initializer()\n",
    "\n",
    "with tf.Session() as sess:\n",
    "    sess.run(init)\n",
    "    step = 0\n",
    "    while step * batch_size < training_iters:\n",
    "        batch_xs, batch_ys = mnist.train.next_batch(batch_size)\n",
    "        batch_xs = batch_xs.reshape([batch_size, n_steps, n_inputs])\n",
    "        sess.run([train_op], feed_dict={\n",
    "            x:batch_xs,\n",
    "            y:batch_ys\n",
    "        })\n",
    "        if step % 20 == 0:\n",
    "            print(sess.run(accuracy, feed_dict={\n",
    "                x:batch_xs,\n",
    "                y:batch_ys\n",
    "            }))\n",
    "        step += 1"
   ]
  },
  {
   "cell_type": "code",
   "execution_count": null,
   "metadata": {
    "collapsed": true
   },
   "outputs": [],
   "source": []
  }
 ],
 "metadata": {
  "kernelspec": {
   "display_name": "Python 3",
   "language": "python",
   "name": "python3"
  },
  "language_info": {
   "codemirror_mode": {
    "name": "ipython",
    "version": 3
   },
   "file_extension": ".py",
   "mimetype": "text/x-python",
   "name": "python",
   "nbconvert_exporter": "python",
   "pygments_lexer": "ipython3",
   "version": "3.6.3"
  }
 },
 "nbformat": 4,
 "nbformat_minor": 2
}
