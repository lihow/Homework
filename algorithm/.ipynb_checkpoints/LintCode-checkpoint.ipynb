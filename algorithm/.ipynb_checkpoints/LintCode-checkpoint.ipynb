{
 "cells": [
  {
   "cell_type": "code",
   "execution_count": 3,
   "metadata": {
    "collapsed": true
   },
   "outputs": [],
   "source": [
    "def strStr(source, target):\n",
    "    if source == None or target == None:\n",
    "        return -1\n",
    "    \n",
    "    lengthS = len(source)\n",
    "    lengthT = len(target)\n",
    "    i = 0\n",
    "    j = 0\n",
    "    while i<lengthS and j<lengthT:\n",
    "        if source[i] == target[j]:\n",
    "            i = i+1\n",
    "            j = j+1\n",
    "        else:\n",
    "            i = i-j+1\n",
    "            j = 0\n",
    "    if j == lengthT:\n",
    "        return i-j\n",
    "    return -1"
   ]
  },
  {
   "cell_type": "code",
   "execution_count": 10,
   "metadata": {
    "collapsed": true
   },
   "outputs": [],
   "source": [
    "def KMP(source, target):\n",
    "    if source == None or target == None:\n",
    "        return -1\n",
    "    #find Next \n",
    "    Next = [-1]#first element\n",
    "    for i in range(1, len(target)):\n",
    "        j = Next[i-1]\n",
    "        if j == -1 or target[i] == target[j]:\n",
    "            j = j+1\n",
    "            Next.append(j)\n",
    "        else:\n",
    "            Next.append(0)\n",
    "    #according Next to do \n",
    "    lengthS = len(source)\n",
    "    lengthT = len(target)\n",
    "    iS = 0\n",
    "    iT = 0\n",
    "    while iS<lengthS and iT<lengthT:\n",
    "        if iT == -1 or source[iS] == target[iT]:\n",
    "            iS = iS+1\n",
    "            iT = iT+1\n",
    "        else:\n",
    "            iT = Next[iT]\n",
    "    if iT == lengthT:\n",
    "        return iS-iT\n",
    "    return -1"
   ]
  },
  {
   "cell_type": "code",
   "execution_count": 11,
   "metadata": {},
   "outputs": [
    {
     "name": "stdout",
     "output_type": "stream",
     "text": [
      "result: 1\n"
     ]
    }
   ],
   "source": [
    "source = 'abcdabcdefg'\n",
    "target = 'bcd'\n",
    "\n",
    "result = KMP(source, target)\n",
    "print('result:',result)      "
   ]
  },
  {
   "cell_type": "code",
   "execution_count": null,
   "metadata": {
    "collapsed": true
   },
   "outputs": [],
   "source": []
  }
 ],
 "metadata": {
  "kernelspec": {
   "display_name": "Python 3",
   "language": "python",
   "name": "python3"
  },
  "language_info": {
   "codemirror_mode": {
    "name": "ipython",
    "version": 3
   },
   "file_extension": ".py",
   "mimetype": "text/x-python",
   "name": "python",
   "nbconvert_exporter": "python",
   "pygments_lexer": "ipython3",
   "version": "3.6.3"
  }
 },
 "nbformat": 4,
 "nbformat_minor": 2
}
